{
 "cells": [
  {
   "cell_type": "code",
   "execution_count": 71,
   "id": "c9e55ecb-4378-4701-afbe-67f7d61246af",
   "metadata": {},
   "outputs": [],
   "source": [
    "import pandas as pd\n",
    "import os\n",
    "import shutil\n",
    "import csv"
   ]
  },
  {
   "cell_type": "code",
   "execution_count": 72,
   "id": "45cb9011-0516-4604-bc8b-6ffdea4fdb06",
   "metadata": {},
   "outputs": [],
   "source": [
    "folder = \"D:/Faheem/oasis-scripts-master/data/mr\""
   ]
  },
  {
   "cell_type": "code",
   "execution_count": 73,
   "id": "19786d8f-4388-4891-9feb-a16c5bf46811",
   "metadata": {},
   "outputs": [],
   "source": [
    "destination = \"D:/Faheem/oasis-scripts-master/data/not_in_match\""
   ]
  },
  {
   "cell_type": "code",
   "execution_count": 74,
   "id": "88069ee2-8991-48f5-89a7-380c9d732016",
   "metadata": {},
   "outputs": [],
   "source": [
    "match_data = 'C:/Users/mohdf/OneDrive/Desktop/oasis/oasis-scripts-master/session_matchup_csv/match_py.csv'"
   ]
  },
  {
   "cell_type": "code",
   "execution_count": 75,
   "id": "92245729-ca44-44c2-a40e-0b2a0440ee5e",
   "metadata": {},
   "outputs": [],
   "source": [
    "df = pd.read_csv(match_data)"
   ]
  },
  {
   "cell_type": "code",
   "execution_count": 76,
   "id": "19459c2f-b691-458d-a1a8-a9f11baa7741",
   "metadata": {},
   "outputs": [
    {
     "data": {
      "text/plain": [
       "array(['OAS30001_MR_d0129', 'OAS30001_MR_d0757', 'OAS30001_MR_d2430', ...,\n",
       "       'OAS31171_MR_d0752', 'OAS31172_MR_d0407', 'OAS31172_MR_d1717'],\n",
       "      dtype=object)"
      ]
     },
     "execution_count": 76,
     "metadata": {},
     "output_type": "execute_result"
    }
   ],
   "source": [
    "match = df[\"MR ID\"].values\n",
    "match"
   ]
  },
  {
   "cell_type": "code",
   "execution_count": 77,
   "id": "1647eab6-46fe-40ba-b006-eb089bd62f90",
   "metadata": {},
   "outputs": [],
   "source": [
    "c = 0\n",
    "for foldername in os.listdir(folder):\n",
    "    if foldername not in match:\n",
    "        c += 1\n",
    "        # source_folder = folder + \"/\" + foldername\n",
    "        # print(source_folder)\n",
    "        # destination_folder = destination + \"/\" + foldername\n",
    "        # print(destination_folder)\n",
    "        # shutil.move(source_folder, destination_folder)\n",
    "        "
   ]
  },
  {
   "cell_type": "code",
   "execution_count": 78,
   "id": "c2ec78b7-1083-4ff2-8689-78acfc7290af",
   "metadata": {},
   "outputs": [
    {
     "data": {
      "text/plain": [
       "0"
      ]
     },
     "execution_count": 78,
     "metadata": {},
     "output_type": "execute_result"
    }
   ],
   "source": [
    "c"
   ]
  },
  {
   "cell_type": "code",
   "execution_count": 81,
   "id": "44399cad-8207-4caf-a7f0-3b4abf296064",
   "metadata": {},
   "outputs": [],
   "source": [
    "c = 0\n",
    "for filename in match:\n",
    "    # print(filename)\n",
    "    # c+=1\n",
    "    if filename not in os.listdir(folder):\n",
    "        # c += 1\n",
    "        print(filename)\n",
    "        # source_folder = folder + \"/\" + foldername\n",
    "        # destination_folder = destination + \"/\" + foldername\n",
    "        # print(destination_folder)\n",
    "        # shutil.move(source_folder, destination_folder)"
   ]
  },
  {
   "cell_type": "code",
   "execution_count": 82,
   "id": "11e6545c-4e2a-42e0-b1cb-c61584bf0e1a",
   "metadata": {},
   "outputs": [
    {
     "data": {
      "text/plain": [
       "0"
      ]
     },
     "execution_count": 82,
     "metadata": {},
     "output_type": "execute_result"
    }
   ],
   "source": [
    "c"
   ]
  },
  {
   "cell_type": "code",
   "execution_count": 69,
   "id": "48337603-cd70-4dcf-8f51-f9f5dd7e6f04",
   "metadata": {},
   "outputs": [],
   "source": [
    "# y z_index wali hai"
   ]
  },
  {
   "cell_type": "code",
   "execution_count": null,
   "id": "f7c910a8-b97b-400e-9d38-abcb5b858bba",
   "metadata": {},
   "outputs": [],
   "source": [
    "# OAS30003_MR_d2682\n",
    "# OAS30046_MR_d0848\n",
    "# OAS30075_MR_d0148\n",
    "# OAS30109_MR_d2320\n",
    "# OAS30217_MR_d0077\n",
    "# OAS30328_MR_d0105\n",
    "# OAS30400_MR_d0070\n",
    "# OAS30547_MR_d0459\n",
    "# OAS30551_MR_d0104\n",
    "# OAS30558_MR_d3715\n",
    "# OAS30562_MR_d2363\n",
    "# OAS30622_MR_d0802\n",
    "# OAS30720_MR_d2715\n",
    "# OAS30767_MR_d0948\n",
    "# OAS30789_MR_d0083\n",
    "# OAS30796_MR_d0079\n",
    "# OAS30839_MR_d1394\n",
    "# OAS30844_MR_d0035\n",
    "# OAS30910_MR_d0090\n",
    "# OAS30921_MR_d2468\n",
    "# OAS30931_MR_d0489\n",
    "# OAS31104_MR_d2333"
   ]
  }
 ],
 "metadata": {
  "kernelspec": {
   "display_name": "myenv",
   "language": "python",
   "name": "myenv"
  },
  "language_info": {
   "codemirror_mode": {
    "name": "ipython",
    "version": 3
   },
   "file_extension": ".py",
   "mimetype": "text/x-python",
   "name": "python",
   "nbconvert_exporter": "python",
   "pygments_lexer": "ipython3",
   "version": "3.11.7"
  }
 },
 "nbformat": 4,
 "nbformat_minor": 5
}
