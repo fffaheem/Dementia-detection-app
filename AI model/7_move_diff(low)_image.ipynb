{
 "cells": [
  {
   "cell_type": "code",
   "execution_count": 86,
   "id": "8ad7bd57-ad92-4323-abdd-98e5b99db16d",
   "metadata": {},
   "outputs": [],
   "source": [
    "import pandas as pd\n",
    "import os\n",
    "import shutil\n",
    "import csv\n",
    "\n"
   ]
  },
  {
   "cell_type": "code",
   "execution_count": 79,
   "id": "9cab3ada-e55d-4dae-9a8c-4378173daaf1",
   "metadata": {},
   "outputs": [],
   "source": [
    "folder = \"E:/Faheem/oasis-scripts-master/data/organised_mr/1.0\""
   ]
  },
  {
   "cell_type": "code",
   "execution_count": 80,
   "id": "b4e71112-3003-49a2-80d5-78cb4f094e03",
   "metadata": {},
   "outputs": [],
   "source": [
    "csv = \"E:/Faheem/oasis-scripts-master/metadata/OASIS3_data_files/MRI-json/csv/OASIS3_MR_json.csv\""
   ]
  },
  {
   "cell_type": "code",
   "execution_count": 81,
   "id": "fc4d29f2-b645-4921-a97c-d2c1c1217461",
   "metadata": {},
   "outputs": [],
   "source": [
    "destination = \"E:/Faheem/oasis-scripts-master/data/ajeeb sa/1.1\""
   ]
  },
  {
   "cell_type": "code",
   "execution_count": 82,
   "id": "a0643de0-b2ca-4f4b-886e-093b0e9982f0",
   "metadata": {},
   "outputs": [],
   "source": [
    "df = pd.read_csv(csv)"
   ]
  },
  {
   "cell_type": "code",
   "execution_count": 83,
   "id": "72e24951-9d7b-4dff-965c-4662acc8cfa2",
   "metadata": {},
   "outputs": [],
   "source": [
    "mr = df[\"label\"].values"
   ]
  },
  {
   "cell_type": "code",
   "execution_count": 84,
   "id": "b766909e-d877-429a-b124-ee89d50a0b73",
   "metadata": {},
   "outputs": [
    {
     "data": {
      "text/plain": [
       "array(['OAS30044_MR_d0061', 'OAS31435_MR_d0071', 'OAS31172_MR_d0407', ...,\n",
       "       'OAS31149_MR_d0061', 'OAS30040_MR_d4230', 'OAS30990_MR_d0107'],\n",
       "      dtype=object)"
      ]
     },
     "execution_count": 84,
     "metadata": {},
     "output_type": "execute_result"
    }
   ],
   "source": [
    "mr"
   ]
  },
  {
   "cell_type": "code",
   "execution_count": null,
   "id": "cdc0fbca-9b64-484f-a2ef-6ac830cac5b5",
   "metadata": {},
   "outputs": [],
   "source": []
  },
  {
   "cell_type": "code",
   "execution_count": 85,
   "id": "1f70f1c9-31ea-429d-aead-9ec6e3a45552",
   "metadata": {},
   "outputs": [
    {
     "name": "stdout",
     "output_type": "stream",
     "text": [
      "8\n"
     ]
    }
   ],
   "source": [
    "count = 0\n",
    "for foldername in os.listdir(folder):\n",
    "    if foldername in mr:\n",
    "        type = df.loc[df['label'] == foldername, 'ConversionSoftware'].values[0]\n",
    "        if type == \"dcm2nii\":\n",
    "            source_folder = folder+\"/\"+foldername\n",
    "            destination_folder = destination +\"/\"+foldername\n",
    "            shutil.move(source_folder, destination_folder)\n",
    "            count += 1\n",
    "            \n",
    "\n",
    "print(count)"
   ]
  },
  {
   "cell_type": "code",
   "execution_count": null,
   "id": "1e7937c5-dfb1-43f1-88bb-96a341b8803a",
   "metadata": {},
   "outputs": [],
   "source": []
  }
 ],
 "metadata": {
  "kernelspec": {
   "display_name": "myenv",
   "language": "python",
   "name": "myenv"
  },
  "language_info": {
   "codemirror_mode": {
    "name": "ipython",
    "version": 3
   },
   "file_extension": ".py",
   "mimetype": "text/x-python",
   "name": "python",
   "nbconvert_exporter": "python",
   "pygments_lexer": "ipython3",
   "version": "3.11.7"
  }
 },
 "nbformat": 4,
 "nbformat_minor": 5
}
