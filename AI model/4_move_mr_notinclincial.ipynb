{
 "cells": [
  {
   "cell_type": "code",
   "execution_count": 1,
   "id": "d29f702e-40a5-4b00-8a12-194adbc9ed98",
   "metadata": {},
   "outputs": [],
   "source": [
    "import pandas as pd\n",
    "import os\n",
    "import shutil\n",
    "import csv\n"
   ]
  },
  {
   "cell_type": "code",
   "execution_count": 2,
   "id": "6b84d884-7ade-4256-ab53-31106546067f",
   "metadata": {},
   "outputs": [],
   "source": [
    "folder = \"D:/Faheem/oasis-scripts-master/data/mr\""
   ]
  },
  {
   "cell_type": "code",
   "execution_count": 20,
   "id": "3c269662-138f-4eb4-8671-0ede1491fbb3",
   "metadata": {},
   "outputs": [],
   "source": [
    "destination = \"D:/Faheem/oasis-scripts-master/data/mr_not_in_clinical\""
   ]
  },
  {
   "cell_type": "code",
   "execution_count": 4,
   "id": "96d542ba-f483-4e53-b9a4-1267fdd3d85d",
   "metadata": {},
   "outputs": [],
   "source": [
    "clincal_data = 'C:/Users/mohdf/OneDrive/Desktop/oasis/oasis-scripts-master/session_matchup_csv/clinical_data.csv'"
   ]
  },
  {
   "cell_type": "code",
   "execution_count": 5,
   "id": "3d085d25-8c3a-42c1-8d68-29840184c62b",
   "metadata": {},
   "outputs": [],
   "source": [
    "df = pd.read_csv(clincal_data)"
   ]
  },
  {
   "cell_type": "code",
   "execution_count": 8,
   "id": "45d13529-1d45-47ee-8041-b13b01d6f407",
   "metadata": {},
   "outputs": [],
   "source": [
    "mr = df[\"Subject\"].values"
   ]
  },
  {
   "cell_type": "code",
   "execution_count": null,
   "id": "b8d63a45-61a6-4413-9c5b-9dbfa3c1e8f2",
   "metadata": {},
   "outputs": [],
   "source": []
  },
  {
   "cell_type": "code",
   "execution_count": 26,
   "id": "8592c7c9-39d3-4e00-b166-caba2d8301c3",
   "metadata": {},
   "outputs": [],
   "source": [
    "c = 0"
   ]
  },
  {
   "cell_type": "code",
   "execution_count": 27,
   "id": "33b9a4ed-dd2c-48fe-af67-930c96697335",
   "metadata": {},
   "outputs": [],
   "source": [
    "for foldername in os.listdir(folder):\n",
    "    subject = foldername.split(\"_\")[0]\n",
    "    if subject not in mr:\n",
    "        c += 1\n",
    "        source_folder = folder + \"/\" + foldername\n",
    "        destination_folder = destination + \"/\" + foldername\n",
    "        # print(destination_folder)\n",
    "        shutil.move(source_folder, destination_folder)"
   ]
  },
  {
   "cell_type": "code",
   "execution_count": 28,
   "id": "7b429ddf-51f9-4ce2-9689-50091f2c2fad",
   "metadata": {},
   "outputs": [
    {
     "data": {
      "text/plain": [
       "331"
      ]
     },
     "execution_count": 28,
     "metadata": {},
     "output_type": "execute_result"
    }
   ],
   "source": [
    "c"
   ]
  },
  {
   "cell_type": "code",
   "execution_count": null,
   "id": "fcf71650-19fd-4e98-947b-7f613ce36217",
   "metadata": {},
   "outputs": [],
   "source": []
  }
 ],
 "metadata": {
  "kernelspec": {
   "display_name": "myenv",
   "language": "python",
   "name": "myenv"
  },
  "language_info": {
   "codemirror_mode": {
    "name": "ipython",
    "version": 3
   },
   "file_extension": ".py",
   "mimetype": "text/x-python",
   "name": "python",
   "nbconvert_exporter": "python",
   "pygments_lexer": "ipython3",
   "version": "3.11.7"
  }
 },
 "nbformat": 4,
 "nbformat_minor": 5
}
