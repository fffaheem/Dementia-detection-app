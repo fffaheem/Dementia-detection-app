{
 "cells": [
  {
   "cell_type": "code",
   "execution_count": 1,
   "id": "32d57e66-9af9-42f6-b355-93bb0f2b03cf",
   "metadata": {},
   "outputs": [],
   "source": [
    "import numpy as np\n",
    "import pandas as pd\n",
    "import os\n",
    "from keras.preprocessing.image import ImageDataGenerator\n",
    "from sklearn.model_selection import train_test_split\n",
    "from keras.utils import plot_model\n",
    "from keras.models import Model\n",
    "from keras.layers import Input, Dense, Flatten, concatenate\n",
    "from keras.layers import Conv2D,Flatten,Dense,Dropout,BatchNormalization,MaxPooling2D\n",
    "import cv2\n",
    "\n",
    "from sklearn.preprocessing import StandardScaler\n",
    "from tensorflow.keras.utils import to_categorical\n",
    "\n",
    "import matplotlib.pyplot as plt\n",
    "from tensorflow.keras.metrics import Precision, Recall, SparseCategoricalAccuracy\n",
    "from tensorflow.keras.models import load_model\n",
    "\n",
    "from sklearn.metrics import classification_report, confusion_matrix, ConfusionMatrixDisplay, roc_auc_score\n",
    "import seaborn as sns\n",
    "\n",
    "from keras.callbacks import EarlyStopping\n",
    "\n",
    "import random\n",
    "\n",
    "\n",
    "from tensorflow.keras.callbacks import TensorBoard\n",
    "import time\n",
    "\n",
    "import tensorflow as tf\n",
    "import tensorflow_datasets as tfds\n",
    "from tensorflow.keras import layers\n",
    "\n",
    "from keras.regularizers import l2"
   ]
  },
  {
   "cell_type": "code",
   "execution_count": 2,
   "id": "6ee75c79-b087-4419-8a89-548419a050fe",
   "metadata": {},
   "outputs": [],
   "source": [
    "NAME = f\"dementia_one_vs_all_{int(time.time())}\"\n",
    "tensorboard = TensorBoard(log_dir = \"./logs/final/Final/final{}\".format(NAME))\n",
    "\n",
    "BS = 32"
   ]
  },
  {
   "cell_type": "code",
   "execution_count": 3,
   "id": "63b57344-b7f0-4627-b0fd-d667474f7e6a",
   "metadata": {},
   "outputs": [],
   "source": [
    "folder = \"C:/Users/mohdf/OneDrive/Desktop/oasis/data/organised_mr\"\n",
    "\n",
    "# 0 -> mri\n",
    "# 1 -> non_mri\n",
    "\n",
    "zero = []\n",
    "   \n",
    "for dirname, _, filenames in os.walk(folder+'/0.0'):\n",
    "    for filename in filenames:\n",
    "        zero.append(os.path.join(dirname, filename))\n",
    "\n",
    "for dirname, _, filenames in os.walk(folder+'/0.5'):\n",
    "    for filename in filenames:\n",
    "        zero.append(os.path.join(dirname, filename))\n",
    "\n",
    "for dirname, _, filenames in os.walk(folder+'/1.0'):\n",
    "    for filename in filenames:\n",
    "        zero.append(os.path.join(dirname, filename))\n",
    "\n",
    "for dirname, _, filenames in os.walk(folder+'/2.0'):\n",
    "    for filename in filenames:\n",
    "        zero.append(os.path.join(dirname, filename))\n"
   ]
  },
  {
   "cell_type": "code",
   "execution_count": 4,
   "id": "84e5f30f-cd07-4c9b-b3a1-67e112637428",
   "metadata": {},
   "outputs": [],
   "source": [
    "(cifar_train_images, _), (cifar_test_images, _) = tf.keras.datasets.cifar10.load_data()\n",
    "\n",
    "# Use only a subset of CIFAR-10 to balance the dataset\n",
    "non_mri_images = np.concatenate((cifar_train_images, cifar_test_images), axis=0)\n",
    "non_mri_labels = [1] * len(non_mri_images)"
   ]
  },
  {
   "cell_type": "code",
   "execution_count": 5,
   "id": "eb49d85c-4a42-49c8-afbe-a3e943695bb2",
   "metadata": {},
   "outputs": [
    {
     "data": {
      "text/plain": [
       "<matplotlib.image.AxesImage at 0x23ad1e1fd60>"
      ]
     },
     "execution_count": 5,
     "metadata": {},
     "output_type": "execute_result"
    },
    {
     "data": {
      "image/png": "[encoded data removed]",
      "text/plain": [
       "<Figure size 640x480 with 1 Axes>"
      ]
     },
     "metadata": {},
     "output_type": "display_data"
    }
   ],
   "source": [
    "plt.imshow(non_mri_images[0])"
   ]
  },
  {
   "cell_type": "code",
   "execution_count": 6,
   "id": "acfea7e6-c22b-4e57-9322-952aa8c0eba6",
   "metadata": {},
   "outputs": [
    {
     "data": {
      "text/plain": [
       "(60000, 112091)"
      ]
     },
     "execution_count": 6,
     "metadata": {},
     "output_type": "execute_result"
    }
   ],
   "source": [
    "len(non_mri_images), len(zero)"
   ]
  },
  {
   "cell_type": "code",
   "execution_count": 7,
   "id": "e3da908c-75c9-4182-927d-cf1bfff3b39b",
   "metadata": {},
   "outputs": [],
   "source": [
    "mri_images = random.sample(zero, k = len(non_mri_images))\n",
    "mri_labels = [0] * len(mri_images)"
   ]
  },
  {
   "cell_type": "code",
   "execution_count": 8,
   "id": "6b57d3bc-bc4e-439d-aad1-4dc043661940",
   "metadata": {},
   "outputs": [
    {
     "data": {
      "text/plain": [
       "(60000, 60000)"
      ]
     },
     "execution_count": 8,
     "metadata": {},
     "output_type": "execute_result"
    }
   ],
   "source": [
    "len(non_mri_images), len(mri_images)"
   ]
  },
  {
   "cell_type": "code",
   "execution_count": 9,
   "id": "e7d50f17-ea10-48a3-a865-8ba2c4eb6304",
   "metadata": {},
   "outputs": [],
   "source": [
    "# Combine MRI and non-MRI images\n",
    "all_images = []\n",
    "for elem in mri_images:\n",
    "    all_images.append(elem)\n",
    "for elem in non_mri_images:\n",
    "    all_images.append(elem)   \n",
    "\n",
    "all_labels = mri_labels + non_mri_labels"
   ]
  },
  {
   "cell_type": "code",
   "execution_count": null,
   "id": "60763a33-174f-41d9-9d0d-8d50377ef965",
   "metadata": {},
   "outputs": [],
   "source": []
  },
  {
   "cell_type": "code",
   "execution_count": 10,
   "id": "0faee952-9d2c-4f07-ab1d-2f328ff90997",
   "metadata": {},
   "outputs": [
    {
     "data": {
      "text/plain": [
       "(96000, 24000)"
      ]
     },
     "execution_count": 10,
     "metadata": {},
     "output_type": "execute_result"
    }
   ],
   "source": [
    "train_images, test_images, train_labels, test_labels = train_test_split(\n",
    "    all_images, all_labels, test_size=0.2, random_state=42\n",
    ")\n",
    "\n",
    "len(train_images), len(test_images)"
   ]
  },
  {
   "cell_type": "code",
   "execution_count": 11,
   "id": "e7c2d678-7bb8-4bde-b685-fb293cb102e0",
   "metadata": {},
   "outputs": [],
   "source": [
    "def image_generator(image_paths, image_labels, batch_size=32):\n",
    "    while True:\n",
    "        for i in range(0, len(image_paths), batch_size):\n",
    "            image_batch = image_paths[i:i+batch_size]\n",
    "            label_batch = image_labels[i:i+batch_size]\n",
    "            \n",
    "            # Load and process the images in this batch\n",
    "            image_array = []\n",
    "            for j, path in enumerate(image_batch):\n",
    "                if label_batch[j] == 0:\n",
    "                    image = cv2.imread(path)\n",
    "                    image = cv2.resize(image, (32,32))\n",
    "                else:\n",
    "                    image = cv2.resize(path,(32,32))\n",
    "                image_array.append(image)\n",
    "\n",
    "            image_array = np.array(image_array) / 255.0\n",
    "            label_array = np.array(label_batch)\n",
    "\n",
    "            yield image_array, label_array\n",
    "\n",
    "train_generator = image_generator(train_images, train_labels)\n",
    "test_generator = image_generator(test_images, test_labels)"
   ]
  },
  {
   "cell_type": "code",
   "execution_count": null,
   "id": "b8a0db75-1de0-4d0f-84b8-090aa88c7f28",
   "metadata": {},
   "outputs": [],
   "source": []
  },
  {
   "cell_type": "code",
   "execution_count": 12,
   "id": "dc48dd76-c031-49b2-8da4-94b9b9455005",
   "metadata": {},
   "outputs": [],
   "source": [
    "from tensorflow.keras.applications import VGG16"
   ]
  },
  {
   "cell_type": "code",
   "execution_count": 13,
   "id": "eae2855a-e6b1-450b-b9d1-708327d90870",
   "metadata": {},
   "outputs": [],
   "source": [
    "\n",
    "image_input = Input(shape=(32, 32, 3))\n",
    "\n",
    "base_model = VGG16(weights='imagenet', include_top=False, input_shape=(32, 32, 3))\n",
    "\n",
    "# Freeze the base model layers to preserve pre-trained features\n",
    "for layer in base_model.layers:\n",
    "    layer.trainable = False\n",
    "    \n",
    "x = base_model(image_input)\n",
    "x = Flatten()(x)\n",
    "x = Dropout(0.5)(x)\n",
    "output = Dense(1, activation='sigmoid')(x) \n",
    "\n"
   ]
  },
  {
   "cell_type": "code",
   "execution_count": 14,
   "id": "8466832e-fdb2-47f1-8711-2143725f7d4f",
   "metadata": {},
   "outputs": [],
   "source": [
    "model = Model(inputs=image_input, outputs=output)\n",
    "model.compile(optimizer='adam', loss='binary_crossentropy', metrics=[tf.keras.metrics.Precision(),'accuracy'])"
   ]
  },
  {
   "cell_type": "code",
   "execution_count": 15,
   "id": "ff92494d-14c4-4d85-898d-71a9edd4f590",
   "metadata": {},
   "outputs": [
    {
     "name": "stdout",
     "output_type": "stream",
     "text": [
      "Epoch 1/2\n",
      "3000/3000 [==============================] - 334s 109ms/step - loss: 0.0619 - precision: 0.9861 - accuracy: 0.9845\n",
      "Epoch 2/2\n",
      "3000/3000 [==============================] - 299s 100ms/step - loss: 0.0205 - precision: 0.9948 - accuracy: 0.9939\n"
     ]
    }
   ],
   "source": [
    "batch_size = BS\n",
    "steps_per_epoch = len(train_images) // batch_size \n",
    "\n",
    "history = model.fit(\n",
    "    train_generator,\n",
    "    steps_per_epoch= steps_per_epoch,\n",
    "    epochs=2,\n",
    "    callbacks=[tensorboard]\n",
    ")"
   ]
  },
  {
   "cell_type": "code",
   "execution_count": 16,
   "id": "9f7959a9-3698-4977-b6b9-ce4a81d3d1e2",
   "metadata": {},
   "outputs": [
    {
     "name": "stdout",
     "output_type": "stream",
     "text": [
      "750/750 [==============================] - 84s 112ms/step - loss: 0.0088 - precision: 0.9970 - accuracy: 0.9975\n",
      "Test Loss: 0.008793411776423454\n",
      "Test precision: 0.9970359206199646\n",
      "Test Accuracy: 0.9974583387374878\n"
     ]
    }
   ],
   "source": [
    "test_steps = len(test_images) // batch_size \n",
    "loss_and_metrics = model.evaluate(test_generator, steps=test_steps)\n",
    "print(f\"Test Loss: {loss_and_metrics[0]}\")\n",
    "print(f\"Test precision: {loss_and_metrics[1]}\")\n",
    "print(f\"Test Accuracy: {loss_and_metrics[2]}\")"
   ]
  },
  {
   "cell_type": "code",
   "execution_count": 62,
   "id": "a2a29266-b7b1-412a-82cb-4808e8b856a4",
   "metadata": {},
   "outputs": [
    {
     "name": "stdout",
     "output_type": "stream",
     "text": [
      "750/750 [==============================] - 79s 105ms/step\n",
      "Classification Report:\n",
      "              precision    recall  f1-score   support\n",
      "\n",
      "           0       1.00      1.00      1.00     12201\n",
      "           1       1.00      1.00      1.00     11799\n",
      "\n",
      "   micro avg       1.00      1.00      1.00     24000\n",
      "   macro avg       1.00      1.00      1.00     24000\n",
      "weighted avg       1.00      1.00      1.00     24000\n",
      "\n"
     ]
    }
   ],
   "source": [
    "\n",
    "test_generator = image_generator(test_images, test_labels)\n",
    "\n",
    "test_steps = len(test_images) // batch_size\n",
    "predictions = model.predict(test_generator, steps=test_steps)\n",
    "\n",
    "predicted_labels = (predictions[:] > 0.5).astype(int)\n",
    "\n",
    "test_generator = image_generator(test_images, test_labels)\n",
    "\n",
    "# True labels\n",
    "true_labels = []\n",
    "for i in range(test_steps):\n",
    "    _, labels = next(test_generator)\n",
    "    true_labels.extend(labels)\n",
    "\n",
    "# Classification Report\n",
    "class_names = ['0', '1']\n",
    "report = classification_report(true_labels, predicted_labels, target_names=class_names, labels=['0', '1'], zero_division=1)\n",
    "print(\"Classification Report:\")\n",
    "print(report)"
   ]
  },
  {
   "cell_type": "code",
   "execution_count": null,
   "id": "cad902a1-77fe-40b0-8258-c739a5466c64",
   "metadata": {},
   "outputs": [],
   "source": []
  },
  {
   "cell_type": "code",
   "execution_count": 63,
   "id": "f4f0aabc-8cb5-4ef9-93cd-39d269e8530e",
   "metadata": {},
   "outputs": [
    {
     "data": {
      "image/png": "[encoded data removed]",
      "text/plain": [
       "<Figure size 800x600 with 2 Axes>"
      ]
     },
     "metadata": {},
     "output_type": "display_data"
    }
   ],
   "source": [
    "cm = confusion_matrix(true_labels, predicted_labels)\n",
    "disp = ConfusionMatrixDisplay(confusion_matrix=cm, display_labels=[0, 1])\n",
    "\n",
    "# Create a figure and axis with the desired size\n",
    "fig, ax = plt.subplots(figsize=(8, 6))  # Adjust the figure size as needed\n",
    "\n",
    "# Plot the confusion matrix on the specified axis with the desired colormap\n",
    "disp.plot(ax=ax, cmap='YlGnBu')\n",
    "\n",
    "# Add titles and labels\n",
    "plt.title('Confusion Matrix')\n",
    "plt.xlabel('Predicted labels')\n",
    "plt.ylabel('True labels')\n",
    "\n",
    "# Display the plot\n",
    "plt.show()"
   ]
  },
  {
   "cell_type": "code",
   "execution_count": null,
   "id": "442040f0-7018-4312-be2c-bbf5b09c8c47",
   "metadata": {},
   "outputs": [],
   "source": []
  },
  {
   "cell_type": "code",
   "execution_count": 156,
   "id": "fc10bd7f-9bee-4bb6-9759-98b0011c6ed8",
   "metadata": {},
   "outputs": [],
   "source": [
    "# small_folder = \"C:/Users/mohdf/OneDrive/Desktop/oasis/data/small\"\n",
    "# small_images = []\n",
    "# for dirname, _, filenames in os.walk(small_folder+'/0.0'):\n",
    "#     for filename in filenames:\n",
    "#         small_images.append(os.path.join(dirname, filename))\n",
    "\n",
    "# for dirname, _, filenames in os.walk(small_folder+'/0.5'):\n",
    "#     for filename in filenames:\n",
    "#         small_images.append(os.path.join(small_folder, filename))\n",
    "\n",
    "# for dirname, _, filenames in os.walk(small_folder+'/1.0'):\n",
    "#     for filename in filenames:\n",
    "#         small_images.append(os.path.join(dirname, filename))\n",
    "\n",
    "# for dirname, _, filenames in os.walk(small_folder+'/2.0'):\n",
    "#     for filename in filenames:\n",
    "#         small_images.append(os.path.join(dirname, filename))\n",
    "\n",
    "# small_prediction = []\n",
    "# for img in small_images:\n",
    "#     imgTest = cv2.imread(img)\n",
    "#     resize = tf.image.resize(imgTest, (32,32))\n",
    "#     model_prediction = validator_model.predict(np.expand_dims(resize/255,0))\n",
    "#     small_prediction.append(model_prediction[0][0])"
   ]
  },
  {
   "cell_type": "code",
   "execution_count": 158,
   "id": "57ef24b6-c855-4ca4-8bcc-36a714fa36a8",
   "metadata": {},
   "outputs": [],
   "source": [
    "# small_prediction_desc = np.sort(small_prediction)[::-1]"
   ]
  },
  {
   "cell_type": "code",
   "execution_count": 159,
   "id": "776ef9f6-abc8-4014-8f94-e51636b77fa0",
   "metadata": {},
   "outputs": [],
   "source": [
    "# small_prediction_desc[0:50]"
   ]
  },
  {
   "cell_type": "code",
   "execution_count": null,
   "id": "2ef7e974-8644-45eb-a858-54e5aa8d563b",
   "metadata": {},
   "outputs": [],
   "source": []
  },
  {
   "cell_type": "code",
   "execution_count": 20,
   "id": "719386b8-39c5-4a16-af82-6a621fc1259d",
   "metadata": {},
   "outputs": [],
   "source": [
    "model.save(os.path.join(\"images_validator3.h5\"))"
   ]
  },
  {
   "cell_type": "code",
   "execution_count": 2,
   "id": "00125908-53dc-4eab-ad9b-12f9c29cd3d3",
   "metadata": {},
   "outputs": [],
   "source": [
    "from tensorflow.keras.models import load_model"
   ]
  },
  {
   "cell_type": "code",
   "execution_count": 3,
   "id": "2231e0db-91c2-44f7-a657-5a4daaab7395",
   "metadata": {},
   "outputs": [],
   "source": [
    "validator_model = load_model(os.path.join(\"images_validator3.h5\"))"
   ]
  },
  {
   "cell_type": "code",
   "execution_count": 8,
   "id": "4ecb853b-5a35-41b5-8939-13c92f50de62",
   "metadata": {},
   "outputs": [
    {
     "data": {
      "image/png": "[encoded data removed]",
      "text/plain": [
       "<Figure size 640x480 with 1 Axes>"
      ]
     },
     "metadata": {},
     "output_type": "display_data"
    }
   ],
   "source": [
    "base = \"C:/Users/mohdf/OneDrive/Desktop/oasis/data/organised_mr/\"\n",
    "\n",
    "path = \"0.0/OAS30001_MR_d0129_anat2_19.jpg\"\n",
    "path = \"0.0/OAS30002_MR_d2340_anat2_26.jpg\"\n",
    "path = \"0.0/OAS30216_MR_d3830_anat2_18.jpg\"\n",
    "path = \"0.0/OAS30219_MR_d0064_anat2_15.jpg\"\n",
    "path = \"0.0/OAS30770_MR_d1201_anat1_17.jpg\"\n",
    "\n",
    "path = \"0.5/OAS30007_MR_d2722_anat2_24.jpg\"\n",
    "path = \"0.5/OAS30035_MR_d3850_anat1_13.jpg\"\n",
    "# path = \"0.5/OAS30159_MR_d0110_anat1_8.jpg\"\n",
    "# path = \"0.5/OAS30250_MR_d3004_anat2_30.jpg\"\n",
    "# path = \"0.5/OAS30553_MR_d0822_anat2_25.jpg\"\n",
    "\n",
    "\n",
    "# path = \"1.0/OAS30029_MR_d0893_anat2_76.jpg\"\n",
    "# path = \"1.0/OAS30029_MR_d0893_anat2_157.jpg\"\n",
    "# path = \"1.0/OAS30914_MR_d0108_anat2_99.jpg\"\n",
    "# path = \"1.0/OAS31170_MR_d2410_anat2_31.jpg\"\n",
    "# path = \"1.0/OAS30399_MR_d2293_anat2_154.jpg\"\n",
    "\n",
    "# path =  \"2.0/OAS30994_MR_d0070_anat2_138.jpg\"\n",
    "# path =  \"2.0/OAS30098_MR_d0036_anat1_125.jpg\"\n",
    "# path =  \"2.0/OAS30194_MR_d9874_anat2_110.jpg\"\n",
    "# path =  \"2.0/OAS30661_MR_d0057_anat1_20.jpg\"\n",
    "# path =  \"2.0/OAS31135_MR_d0498_anat1_46.jpg\"\n",
    "\n",
    "full_path = base + path\n",
    "# full_path = \"C:/Users/mohdf/OneDrive/Desktop/cat.jpg\"\n",
    "full_path = \"C:/Users/mohdf/OneDrive/Desktop/car.jpg\"\n",
    "# full_path = \"C:\\Faheem\\Faheem documents\\Faheem .jpg\"\n",
    "# full_path = \"C:\\Faheem\\Faheem documents\\Faheem.jpg\"\n",
    "# full_path = \"C:\\Faheem\\Faheem documents\\img101.jpg\"\n",
    "# full_path = \"C:/Users/mohdf/OneDrive/Desktop/lung.jpg\"\n",
    "# full_path = \"C:/Users/mohdf/OneDrive/Desktop/lung01.jpg\"\n",
    "# full_path = \"C:/Users/mohdf/OneDrive/Desktop/cat03.jpg\"\n",
    "# full_path = \"C:/Users/mohdf/OneDrive/Desktop/lung02.jpg\"\n",
    "# full_path = \"C:/Users/mohdf/OneDrive/Desktop/lung03.jpg\"\n",
    "full_path = \"C:/Users/mohdf/OneDrive/Desktop/lung04.jpg\"\n",
    "imgTest = cv2.imread(full_path)\n",
    "resize = tf.image.resize(imgTest, (32,32))\n",
    "plt.imshow(resize.numpy().astype(int))\n",
    "plt.show()"
   ]
  },
  {
   "cell_type": "code",
   "execution_count": 9,
   "id": "37ce6d70-dc75-4c10-92a2-cc59528ff70e",
   "metadata": {},
   "outputs": [
    {
     "name": "stdout",
     "output_type": "stream",
     "text": [
      "1/1 [==============================] - 0s 63ms/step\n"
     ]
    }
   ],
   "source": [
    "model_prediction = validator_model.predict(np.expand_dims(resize/255,0))"
   ]
  },
  {
   "cell_type": "code",
   "execution_count": 10,
   "id": "ebf07808-5a1c-4568-a7b7-a54b6df19cca",
   "metadata": {},
   "outputs": [
    {
     "name": "stdout",
     "output_type": "stream",
     "text": [
      "0.36381572\n"
     ]
    }
   ],
   "source": [
    "print(model_prediction[0][0])\n",
    "# for predictions in model_prediction[0]:\n",
    "#     print(predictions)"
   ]
  },
  {
   "cell_type": "code",
   "execution_count": 11,
   "id": "1b0328d4-7632-4619-8e71-62d42b53d67e",
   "metadata": {},
   "outputs": [
    {
     "name": "stdout",
     "output_type": "stream",
     "text": [
      "invalid MRI\n"
     ]
    }
   ],
   "source": [
    "\n",
    "if model_prediction[0][0] > 0.1:\n",
    "    print(\"invalid MRI\")\n",
    "else:\n",
    "    print(\"valid MRI\")"
   ]
  },
  {
   "cell_type": "code",
   "execution_count": null,
   "id": "14aba62c-cc8e-4344-a713-ddcdf35f2ce3",
   "metadata": {},
   "outputs": [],
   "source": []
  },
  {
   "cell_type": "code",
   "execution_count": null,
   "id": "382df3fa-3ebb-4217-aae6-6b38f33e2156",
   "metadata": {},
   "outputs": [],
   "source": []
  }
 ],
 "metadata": {
  "kernelspec": {
   "display_name": "Python 3 (ipykernel)",
   "language": "python",
   "name": "python3"
  },
  "language_info": {
   "codemirror_mode": {
    "name": "ipython",
    "version": 3
   },
   "file_extension": ".py",
   "mimetype": "text/x-python",
   "name": "python",
   "nbconvert_exporter": "python",
   "pygments_lexer": "ipython3",
   "version": "3.10.14"
  }
 },
 "nbformat": 4,
 "nbformat_minor": 5
}
